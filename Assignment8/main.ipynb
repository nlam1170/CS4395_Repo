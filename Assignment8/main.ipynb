{
 "cells": [
  {
   "cell_type": "code",
   "execution_count": 766,
   "id": "b072a015-ff93-431a-9eac-a8f3028f7116",
   "metadata": {},
   "outputs": [],
   "source": [
    "import pandas as pd\n",
    "import nltk\n",
    "from nltk.corpus import stopwords\n",
    "from sklearn.model_selection import train_test_split\n",
    "from sklearn.feature_extraction.text import TfidfVectorizer\n",
    "from sklearn.naive_bayes import BernoulliNB\n",
    "from sklearn.linear_model import LogisticRegression\n",
    "from sklearn.neural_network import MLPClassifier\n",
    "from sklearn.metrics import accuracy_score"
   ]
  },
  {
   "cell_type": "markdown",
   "id": "f1d2588c-df86-45ab-9a34-07ce67d1eeca",
   "metadata": {},
   "source": [
    "### Step 1"
   ]
  },
  {
   "cell_type": "code",
   "execution_count": 767,
   "id": "412f35ad-3f05-4ed5-a8f7-a64111b0ae8d",
   "metadata": {},
   "outputs": [
    {
     "name": "stdout",
     "output_type": "stream",
     "text": [
      "     author                                               text\n",
      "0  HAMILTON  FEDERALIST. No. 1 General Introduction For the...\n",
      "1       JAY  FEDERALIST No. 2 Concerning Dangers from Forei...\n",
      "2       JAY  FEDERALIST No. 3 The Same Subject Continued (C...\n",
      "3       JAY  FEDERALIST No. 4 The Same Subject Continued (C...\n",
      "4       JAY  FEDERALIST No. 5 The Same Subject Continued (C...\n",
      "\n"
     ]
    },
    {
     "data": {
      "text/plain": [
       "HAMILTON                49\n",
       "MADISON                 15\n",
       "HAMILTON OR MADISON     11\n",
       "JAY                      5\n",
       "HAMILTON AND MADISON     3\n",
       "Name: author, dtype: int64"
      ]
     },
     "execution_count": 767,
     "metadata": {},
     "output_type": "execute_result"
    }
   ],
   "source": [
    "df = pd.read_csv(\"federalist.csv\")\n",
    "df[\"author\"] = df.author.astype(\"category\")\n",
    "print(df.head())\n",
    "print()\n",
    "df[\"author\"].value_counts()"
   ]
  },
  {
   "cell_type": "markdown",
   "id": "b9f37612-9203-43f1-b33c-aea5efbde902",
   "metadata": {},
   "source": [
    "### Step 2"
   ]
  },
  {
   "cell_type": "code",
   "execution_count": 768,
   "id": "0a4bad3e-b637-4fdc-be7e-16b0601ed16c",
   "metadata": {},
   "outputs": [
    {
     "name": "stdout",
     "output_type": "stream",
     "text": [
      "(66,) (66,)\n",
      "(17,) (17,)\n"
     ]
    }
   ],
   "source": [
    "X, y = df.text, df.author\n",
    "X_train, X_test, y_train, y_test = train_test_split(X, y, test_size=0.2, train_size=0.8, random_state=1234)\n",
    "\n",
    "print(X_train.shape, y_train.shape)\n",
    "print(X_test.shape, y_test.shape)"
   ]
  },
  {
   "cell_type": "markdown",
   "id": "c2819dd6-d52e-4eac-ac2a-4c6435ded24a",
   "metadata": {},
   "source": [
    "### Step 3"
   ]
  },
  {
   "cell_type": "code",
   "execution_count": 769,
   "id": "73bf961a-206f-478f-9507-5792bd5fd5f4",
   "metadata": {},
   "outputs": [
    {
     "name": "stdout",
     "output_type": "stream",
     "text": [
      "(66, 7876)\n",
      "(17, 7876)\n"
     ]
    }
   ],
   "source": [
    "stopwords = set(stopwords.words(\"english\"))\n",
    "vectorizer = TfidfVectorizer(stop_words=stopwords)\n",
    "X_train = vectorizer.fit_transform(X_train)\n",
    "X_test = vectorizer.transform(X_test)\n",
    "\n",
    "print(X_train.shape)\n",
    "print(X_test.shape)"
   ]
  },
  {
   "cell_type": "markdown",
   "id": "8fcd2a15-e35f-477c-bcb8-fc4553bd2ee3",
   "metadata": {},
   "source": [
    "### Step 4"
   ]
  },
  {
   "cell_type": "code",
   "execution_count": 770,
   "id": "f6a7b4a9-fe2c-487a-b778-04e6a72a3cd7",
   "metadata": {},
   "outputs": [
    {
     "name": "stdout",
     "output_type": "stream",
     "text": [
      "Accuracy Score: 0.5882352941176471\n"
     ]
    }
   ],
   "source": [
    "nb = BernoulliNB()\n",
    "nb.fit(X_train, y_train)\n",
    "pred = nb.predict(X_test)\n",
    "print(\"Accuracy Score:\", accuracy_score(y_test, pred))"
   ]
  },
  {
   "cell_type": "markdown",
   "id": "dc71498d-7e3e-48d7-944d-3d7f6168cdb8",
   "metadata": {},
   "source": [
    "### Step 5"
   ]
  },
  {
   "cell_type": "code",
   "execution_count": 771,
   "id": "7f3a7cb1-1bf6-4b40-a7c9-ac42b3467f53",
   "metadata": {},
   "outputs": [
    {
     "name": "stdout",
     "output_type": "stream",
     "text": [
      "Accuracy Score: 0.9411764705882353\n"
     ]
    }
   ],
   "source": [
    "X_train, X_test, y_train, y_test = train_test_split(X, y, test_size=0.2, train_size=0.8, random_state=1234)\n",
    "vectorizer = TfidfVectorizer(stop_words=stopwords, max_features=1000, ngram_range=(1, 2))\n",
    "X_train = vectorizer.fit_transform(X_train)\n",
    "X_test = vectorizer.transform(X_test)\n",
    "\n",
    "nb.fit(X_train, y_train)\n",
    "pred = nb.predict(X_test)\n",
    "print(\"Accuracy Score:\", accuracy_score(y_test, pred))"
   ]
  },
  {
   "cell_type": "markdown",
   "id": "2215627d-e227-45a2-aabf-f83ac64d601a",
   "metadata": {},
   "source": [
    "### Step 6"
   ]
  },
  {
   "cell_type": "code",
   "execution_count": 772,
   "id": "21b6ae2e-760b-4119-b32e-837248d2c47c",
   "metadata": {},
   "outputs": [
    {
     "name": "stdout",
     "output_type": "stream",
     "text": [
      "Accuracy Score: 0.8823529411764706\n"
     ]
    }
   ],
   "source": [
    "X_train, X_test, y_train, y_test = train_test_split(X, y, test_size=0.2, train_size=0.8, random_state=1234)\n",
    "vectorizer = TfidfVectorizer(binary=True, stop_words=stopwords, max_features=1000, ngram_range=(1, 2))\n",
    "X_train = vectorizer.fit_transform(X_train)\n",
    "X_test = vectorizer.transform(X_test)\n",
    "\n",
    "lr = LogisticRegression(solver=\"lbfgs\", class_weight=\"balanced\")\n",
    "lr.fit(X_train, y_train)\n",
    "pred = lr.predict(X_test)\n",
    "\n",
    "print(\"Accuracy Score:\", accuracy_score(y_test, pred))"
   ]
  },
  {
   "cell_type": "markdown",
   "id": "503e4830-c4a0-406c-a1ed-e076e0febf19",
   "metadata": {},
   "source": [
    "### Step 6 - model param change\n",
    "I changed bigrams -> trigrams, introduced a min_df, and increased the C value. But I did not see any improvements"
   ]
  },
  {
   "cell_type": "code",
   "execution_count": 773,
   "id": "d8ba3643-fbd2-4c52-9395-027c55b1c17d",
   "metadata": {},
   "outputs": [
    {
     "name": "stdout",
     "output_type": "stream",
     "text": [
      "Accuracy Score: 0.8823529411764706\n"
     ]
    }
   ],
   "source": [
    "X_train, X_test, y_train, y_test = train_test_split(X, y, test_size=0.2, train_size=0.8, random_state=1234)\n",
    "vectorizer = TfidfVectorizer(binary=True, stop_words=stopwords, max_features=1000, ngram_range=(1, 3), min_df=5)\n",
    "X_train = vectorizer.fit_transform(X_train)\n",
    "X_test = vectorizer.transform(X_test)\n",
    "\n",
    "lr = LogisticRegression(solver=\"lbfgs\", class_weight=\"balanced\", C=2)\n",
    "lr.fit(X_train, y_train)\n",
    "pred = lr.predict(X_test)\n",
    "\n",
    "print(\"Accuracy Score:\", accuracy_score(y_test, pred))"
   ]
  },
  {
   "cell_type": "markdown",
   "id": "b9ed5c14-a5cc-4f20-9235-8827e5b29450",
   "metadata": {},
   "source": [
    "### Step 7\n",
    "I tried a couple of layzer sizes but I couldn't find better results than a simple (15, 2) layer"
   ]
  },
  {
   "cell_type": "code",
   "execution_count": 774,
   "id": "d8282fdd-a83e-4529-a0ab-89d02d41c93b",
   "metadata": {},
   "outputs": [
    {
     "name": "stdout",
     "output_type": "stream",
     "text": [
      "Accuracy Score: 0.7058823529411765\n"
     ]
    }
   ],
   "source": [
    "X_train, X_test, y_train, y_test = train_test_split(X, y, test_size=0.2, train_size=0.8, random_state=1234)\n",
    "vectorizer = TfidfVectorizer(binary=True, stop_words=stopwords, max_features=1000, ngram_range=(1, 2))\n",
    "X_train = vectorizer.fit_transform(X_train)\n",
    "X_test = vectorizer.transform(X_test)\n",
    "\n",
    "nn = MLPClassifier(solver=\"lbfgs\", alpha=1e-5, hidden_layer_sizes=(15,2), random_state=1)\n",
    "nn.fit(X_train, y_train)\n",
    "pred = nn.predict(X_test)\n",
    "\n",
    "print(\"Accuracy Score:\", accuracy_score(y_test, pred))"
   ]
  },
  {
   "cell_type": "code",
   "execution_count": null,
   "id": "78ac0fae-59e5-4779-915a-678c05bb09b7",
   "metadata": {},
   "outputs": [],
   "source": []
  }
 ],
 "metadata": {
  "kernelspec": {
   "display_name": "Python 3 (ipykernel)",
   "language": "python",
   "name": "python3"
  },
  "language_info": {
   "codemirror_mode": {
    "name": "ipython",
    "version": 3
   },
   "file_extension": ".py",
   "mimetype": "text/x-python",
   "name": "python",
   "nbconvert_exporter": "python",
   "pygments_lexer": "ipython3",
   "version": "3.10.6"
  }
 },
 "nbformat": 4,
 "nbformat_minor": 5
}
